{
 "cells": [
  {
   "cell_type": "code",
   "execution_count": 1,
   "id": "a5b0fee3",
   "metadata": {},
   "outputs": [],
   "source": [
    "import numpy as np"
   ]
  },
  {
   "cell_type": "code",
   "execution_count": 3,
   "id": "8d6c32e1",
   "metadata": {},
   "outputs": [
    {
     "name": "stdout",
     "output_type": "stream",
     "text": [
      "your otp is - [6603]\n",
      "enter otp6578\n",
      "invalid otp\n",
      "your otp is - [7307]\n",
      "enter otp7307\n",
      "successfully logged in\n"
     ]
    }
   ],
   "source": [
    "#one of the real example of randint\n",
    "while True:\n",
    "    otp1 = np.random.randint(1000,10000,1)\n",
    "    print(\"your otp is -\" , otp1)\n",
    "    user_otp = int(input('enter otp'))\n",
    "    if otp1 == user_otp:\n",
    "        print('successfully logged in')\n",
    "        break\n",
    "    else:\n",
    "        print('invalid otp')\n",
    "        continue"
   ]
  },
  {
   "cell_type": "markdown",
   "id": "f640358e",
   "metadata": {},
   "source": [
    "# SORTING"
   ]
  },
  {
   "cell_type": "code",
   "execution_count": 4,
   "id": "d8286e28",
   "metadata": {},
   "outputs": [],
   "source": [
    "# to short np.random.ranint\n",
    "from numpy.random import randint as ri"
   ]
  },
  {
   "cell_type": "code",
   "execution_count": 6,
   "id": "9e82efa5",
   "metadata": {},
   "outputs": [
    {
     "name": "stdout",
     "output_type": "stream",
     "text": [
      "\n",
      "5*5 matrix of random integers\n",
      " -------------------------------------------------- \n",
      " [[82 68 77 47 95]\n",
      " [22 15  9 12 68]\n",
      " [55 77 90 99 93]\n",
      " [88 74 35 46 92]\n",
      " [49 91 95 58 99]]\n",
      "\n",
      " here is sorted matrix along row\n",
      " -------------------------------------------------- \n",
      " [[47 68 77 82 95]\n",
      " [ 9 12 15 22 68]\n",
      " [55 77 90 93 99]\n",
      " [35 46 74 88 92]\n",
      " [49 58 91 95 99]]\n",
      "\n",
      " here is the sorted matrix along column\n",
      " -------------------------------------------------- \n",
      " [[22 15  9 12 68]\n",
      " [49 68 35 46 92]\n",
      " [55 74 77 47 93]\n",
      " [82 77 90 58 95]\n",
      " [88 91 95 99 99]]\n"
     ]
    }
   ],
   "source": [
    "m = ri(1,100,25).reshape(5,5)  #matrix of random integer\n",
    "\n",
    "print(\"\\n5*5 matrix of random integers\\n\" , '-'*50,\"\\n\", m)\n",
    "\n",
    "print(\"\\n here is sorted matrix along row\\n\",'-'*50,\"\\n\",np.sort(m))  #by default axis = 1\n",
    "\n",
    "\n",
    "print(\"\\n here is the sorted matrix along column\\n\",'-'*50,\"\\n\" , np.sort(m , axis = 0))"
   ]
  },
  {
   "cell_type": "code",
   "execution_count": 7,
   "id": "6fc124df",
   "metadata": {},
   "outputs": [
    {
     "name": "stdout",
     "output_type": "stream",
     "text": [
      "minimum- 9 and maximum -  99\n"
     ]
    }
   ],
   "source": [
    "print('minimum-' , m.min() ,'and maximum - ' , m.max())  #here m is matrix , matrix.minimum , matrix. maximum"
   ]
  },
  {
   "cell_type": "markdown",
   "id": "6e9b22c6",
   "metadata": {},
   "source": [
    "# NUmpy conditions:"
   ]
  },
  {
   "cell_type": "code",
   "execution_count": 8,
   "id": "62134a83",
   "metadata": {},
   "outputs": [
    {
     "data": {
      "text/plain": [
       "array([29, 55, 42, 17, 27, 10, 25, 16, 44, 30])"
      ]
     },
     "execution_count": 8,
     "metadata": {},
     "output_type": "execute_result"
    }
   ],
   "source": [
    "#below are employee salary\n",
    "emp_sal = ri(8,70,10)\n",
    "emp_sal"
   ]
  },
  {
   "cell_type": "code",
   "execution_count": 11,
   "id": "535f332f",
   "metadata": {},
   "outputs": [
    {
     "name": "stdout",
     "output_type": "stream",
     "text": [
      "(array([3, 5, 7], dtype=int64),)\n"
     ]
    }
   ],
   "source": [
    "#if you want to find the salary which are less than or greater than some salary use np.where\n",
    "#np.where gives index details\n",
    "print(np.where(emp_sal <25)) #it will pick corresponding index number for example here numbers @index 3,5,7 are less than 25"
   ]
  },
  {
   "cell_type": "code",
   "execution_count": 13,
   "id": "0fa7be5a",
   "metadata": {},
   "outputs": [
    {
     "data": {
      "text/plain": [
       "array([17, 10, 16])"
      ]
     },
     "execution_count": 13,
     "metadata": {},
     "output_type": "execute_result"
    }
   ],
   "source": [
    "#to fetch the corresponding data (only number not index)\n",
    "emp_sal[np.where(emp_sal<25)]\n",
    "#from data emp_sal check data @ index 3,5,7"
   ]
  },
  {
   "cell_type": "raw",
   "id": "8af75c04",
   "metadata": {},
   "source": [
    "similarly we check for (<,>,=< , => , ==) etc"
   ]
  },
  {
   "cell_type": "code",
   "execution_count": 14,
   "id": "0d830de1",
   "metadata": {},
   "outputs": [
    {
     "data": {
      "text/plain": [
       "array([29, 50, 42, 20, 27, 20, 25, 20, 44, 30])"
      ]
     },
     "execution_count": 14,
     "metadata": {},
     "output_type": "execute_result"
    }
   ],
   "source": [
    "#set minimum and maximum salary using a_min and a_max\n",
    "np.clip(emp_sal, a_min = 20 , a_max = 50)\n",
    "#by using this method we can set salary of employees in b/w any limit\n",
    "#all the number less than 20 and more than 50 will be replaced by another number b/w 20 to 50"
   ]
  },
  {
   "cell_type": "markdown",
   "id": "1d534c04",
   "metadata": {},
   "source": [
    "# indexing and slicing:"
   ]
  },
  {
   "cell_type": "code",
   "execution_count": 15,
   "id": "dbf78c75",
   "metadata": {},
   "outputs": [
    {
     "name": "stdout",
     "output_type": "stream",
     "text": [
      "array- [13 14 15 16 17 18 19 20 21 22 23 24 25 26 27 28 29]\n"
     ]
    }
   ],
   "source": [
    "arr = np.arange(13,30)\n",
    "\n",
    "print(\"array-\" , arr)"
   ]
  },
  {
   "cell_type": "code",
   "execution_count": 16,
   "id": "7540d350",
   "metadata": {},
   "outputs": [
    {
     "name": "stdout",
     "output_type": "stream",
     "text": [
      "element at 7th index is -  20\n"
     ]
    }
   ],
   "source": [
    "print(\"element at 7th index is - \" , arr[7])  "
   ]
  },
  {
   "cell_type": "code",
   "execution_count": 17,
   "id": "96123ade",
   "metadata": {},
   "outputs": [
    {
     "name": "stdout",
     "output_type": "stream",
     "text": [
      "elements at 2nd 4th and 9th index are - [15 17 20]\n"
     ]
    }
   ],
   "source": [
    "print(\"elements at 2nd 4th and 7th index are -\" , arr[[2,4,7]]) # if we are fething more than one index then we need to keep it in list\n",
    "#above arr[7] , here we are fetching for more than 1 so arr[[2,4,7]] here 2,4,7 are in the list"
   ]
  },
  {
   "cell_type": "code",
   "execution_count": 18,
   "id": "c352a8a0",
   "metadata": {},
   "outputs": [
    {
     "data": {
      "text/plain": [
       "array([[1, 2, 3],\n",
       "       [4, 5, 6],\n",
       "       [7, 8, 9]])"
      ]
     },
     "execution_count": 18,
     "metadata": {},
     "output_type": "execute_result"
    }
   ],
   "source": [
    "#how to fetch data from matrix\n",
    "my_mat = ([1,2,3] , [4,5,6],[7,8,9])\n",
    "\n",
    "mat = np.array(my_mat)\n",
    "mat"
   ]
  },
  {
   "cell_type": "code",
   "execution_count": 19,
   "id": "3d9c95c2",
   "metadata": {},
   "outputs": [],
   "source": [
    "# row wise index (0,1,2) and column wise index is (0,1,2)"
   ]
  },
  {
   "cell_type": "code",
   "execution_count": 20,
   "id": "cb1a6417",
   "metadata": {},
   "outputs": [
    {
     "name": "stdout",
     "output_type": "stream",
     "text": [
      "\n",
      "double bracket indexing----------------------------------\n",
      "elements in row index 1 and column index 2:  6\n"
     ]
    }
   ],
   "source": [
    "print(\"\\ndouble bracket indexing----------------------------------\")\n",
    "print(\"elements in row index 1 and column index 2: \" , mat[1][2])"
   ]
  },
  {
   "cell_type": "code",
   "execution_count": 21,
   "id": "b57ee5ab",
   "metadata": {},
   "outputs": [
    {
     "data": {
      "text/plain": [
       "array([[1, 2, 3],\n",
       "       [4, 5, 6],\n",
       "       [7, 8, 9]])"
      ]
     },
     "execution_count": 21,
     "metadata": {},
     "output_type": "execute_result"
    }
   ],
   "source": [
    "mat"
   ]
  },
  {
   "cell_type": "code",
   "execution_count": 22,
   "id": "8c3c2e66",
   "metadata": {},
   "outputs": [
    {
     "data": {
      "text/plain": [
       "array([[1, 2, 3],\n",
       "       [4, 5, 6],\n",
       "       [7, 8, 9]])"
      ]
     },
     "execution_count": 22,
     "metadata": {},
     "output_type": "execute_result"
    }
   ],
   "source": [
    "mat"
   ]
  },
  {
   "cell_type": "code",
   "execution_count": 23,
   "id": "6413c32c",
   "metadata": {},
   "outputs": [
    {
     "data": {
      "text/plain": [
       "7"
      ]
     },
     "execution_count": 23,
     "metadata": {},
     "output_type": "execute_result"
    }
   ],
   "source": [
    "mat[2][0]"
   ]
  },
  {
   "cell_type": "code",
   "execution_count": 24,
   "id": "3ece10f7",
   "metadata": {},
   "outputs": [
    {
     "data": {
      "text/plain": [
       "9"
      ]
     },
     "execution_count": 24,
     "metadata": {},
     "output_type": "execute_result"
    }
   ],
   "source": [
    "mat[2][2]"
   ]
  },
  {
   "cell_type": "code",
   "execution_count": 26,
   "id": "3863c492",
   "metadata": {},
   "outputs": [
    {
     "name": "stdout",
     "output_type": "stream",
     "text": [
      "entire row at index 2 : [7 8 9]\n",
      "\n",
      "entire column at index: \n",
      " [[2 3]\n",
      " [5 6]\n",
      " [8 9]]\n"
     ]
    }
   ],
   "source": [
    "print(\"entire row at index 2 :\" , mat[2]) #this will fetch row at index  2\n",
    "print(\"\\nentire column at index: \\n\" , mat[:,1:]) # : means no starting no ending \n",
    "#look at [:,1:]\n",
    "# with row wise space:space = everything which is [:] this part before the comma \n",
    "#and with column wise = 1: which means fetch 1st column and till ending column which is column 2 here"
   ]
  },
  {
   "cell_type": "code",
   "execution_count": 27,
   "id": "957067ed",
   "metadata": {},
   "outputs": [
    {
     "name": "stdout",
     "output_type": "stream",
     "text": [
      "\n",
      "Subsetting sub matrices \n",
      "------------------------------------\n",
      "matrix with row indices 1 and 2 and column indices 3 and 4 \n",
      " [[5]]\n"
     ]
    }
   ],
   "source": [
    "print(\"\\nSubsetting sub matrices \\n------------------------------------\")\n",
    "print(\"matrix with row indices 1 and 2 and column indices 3 and 4 \\n\", mat[1:2,1:2])"
   ]
  },
  {
   "cell_type": "code",
   "execution_count": 28,
   "id": "2ef1da25",
   "metadata": {},
   "outputs": [
    {
     "data": {
      "text/plain": [
       "array([[1, 2, 3],\n",
       "       [4, 5, 6],\n",
       "       [7, 8, 9]])"
      ]
     },
     "execution_count": 28,
     "metadata": {},
     "output_type": "execute_result"
    }
   ],
   "source": [
    "mat"
   ]
  },
  {
   "cell_type": "code",
   "execution_count": 32,
   "id": "e9b76c0a",
   "metadata": {},
   "outputs": [
    {
     "name": "stdout",
     "output_type": "stream",
     "text": [
      " [[2 3]\n",
      " [5 6]]\n"
     ]
    }
   ],
   "source": [
    "print(\"\" , mat [0:2,[1,2]]) #row side we are using 0:2 and column side we are using 1,2"
   ]
  },
  {
   "cell_type": "code",
   "execution_count": 33,
   "id": "93af2758",
   "metadata": {},
   "outputs": [
    {
     "data": {
      "text/plain": [
       "array([[1, 2, 3],\n",
       "       [4, 5, 6],\n",
       "       [7, 8, 9]])"
      ]
     },
     "execution_count": 33,
     "metadata": {},
     "output_type": "execute_result"
    }
   ],
   "source": [
    "mat"
   ]
  },
  {
   "cell_type": "markdown",
   "id": "5e21fe62",
   "metadata": {},
   "source": [
    "# update matrix:"
   ]
  },
  {
   "cell_type": "code",
   "execution_count": 34,
   "id": "59aaa044",
   "metadata": {},
   "outputs": [
    {
     "data": {
      "text/plain": [
       "array([[1, 2, 3],\n",
       "       [4, 5, 6],\n",
       "       [7, 8, 9]])"
      ]
     },
     "execution_count": 34,
     "metadata": {},
     "output_type": "execute_result"
    }
   ],
   "source": [
    "mat"
   ]
  },
  {
   "cell_type": "code",
   "execution_count": 35,
   "id": "7fbe277a",
   "metadata": {},
   "outputs": [],
   "source": [
    "mat[2][2] = 7 #updating 9 to 7 in the matrix mat"
   ]
  },
  {
   "cell_type": "code",
   "execution_count": 36,
   "id": "df3703f8",
   "metadata": {},
   "outputs": [
    {
     "data": {
      "text/plain": [
       "array([[1, 2, 3],\n",
       "       [4, 5, 6],\n",
       "       [7, 8, 7]])"
      ]
     },
     "execution_count": 36,
     "metadata": {},
     "output_type": "execute_result"
    }
   ],
   "source": [
    "mat"
   ]
  },
  {
   "cell_type": "code",
   "execution_count": 37,
   "id": "fe156535",
   "metadata": {},
   "outputs": [
    {
     "name": "stdout",
     "output_type": "stream",
     "text": [
      "original matrix\n",
      "\n",
      " [[1 2 3]\n",
      " [4 5 6]\n",
      " [7 8 7]]\n"
     ]
    }
   ],
   "source": [
    "print('original matrix\\n\\n' ,mat)"
   ]
  },
  {
   "cell_type": "code",
   "execution_count": 38,
   "id": "4e69eb9b",
   "metadata": {},
   "outputs": [],
   "source": [
    "mat[0][1] = 23"
   ]
  },
  {
   "cell_type": "code",
   "execution_count": 39,
   "id": "e638608f",
   "metadata": {},
   "outputs": [
    {
     "data": {
      "text/plain": [
       "array([[ 1, 23,  3],\n",
       "       [ 4,  5,  6],\n",
       "       [ 7,  8,  7]])"
      ]
     },
     "execution_count": 39,
     "metadata": {},
     "output_type": "execute_result"
    }
   ],
   "source": [
    "mat"
   ]
  },
  {
   "cell_type": "code",
   "execution_count": 40,
   "id": "04d5ec3e",
   "metadata": {},
   "outputs": [],
   "source": [
    "mat[0][2] = 26"
   ]
  },
  {
   "cell_type": "code",
   "execution_count": 41,
   "id": "072e6f0d",
   "metadata": {},
   "outputs": [
    {
     "data": {
      "text/plain": [
       "array([[ 1, 23, 26],\n",
       "       [ 4,  5,  6],\n",
       "       [ 7,  8,  7]])"
      ]
     },
     "execution_count": 41,
     "metadata": {},
     "output_type": "execute_result"
    }
   ],
   "source": [
    "mat"
   ]
  },
  {
   "cell_type": "code",
   "execution_count": 42,
   "id": "1df1ef61",
   "metadata": {},
   "outputs": [
    {
     "name": "stdout",
     "output_type": "stream",
     "text": [
      "[[  1  23  26]\n",
      " [100   5   6]\n",
      " [  7   8   7]]\n"
     ]
    }
   ],
   "source": [
    "mat[1][0] = 100\n",
    "print(mat)"
   ]
  },
  {
   "cell_type": "markdown",
   "id": "8848a676",
   "metadata": {},
   "source": [
    "# subsetting:"
   ]
  },
  {
   "cell_type": "code",
   "execution_count": 43,
   "id": "662ad760",
   "metadata": {},
   "outputs": [
    {
     "name": "stdout",
     "output_type": "stream",
     "text": [
      "matrix of random two digit number is \n",
      "----------------------------\n",
      " [[72 85 48 29 98]\n",
      " [13 43 65 15 54]\n",
      " [62 42 26 72 62]]\n"
     ]
    }
   ],
   "source": [
    "mat = np.array(ri(10,100,15)).reshape(3,5)\n",
    "\n",
    "print(\"matrix of random two digit number is \\n----------------------------\\n\" , mat)"
   ]
  },
  {
   "cell_type": "code",
   "execution_count": 44,
   "id": "312d4c80",
   "metadata": {},
   "outputs": [
    {
     "data": {
      "text/plain": [
       "array([[ True,  True, False, False,  True],\n",
       "       [False, False,  True, False,  True],\n",
       "       [ True, False, False,  True,  True]])"
      ]
     },
     "execution_count": 44,
     "metadata": {},
     "output_type": "execute_result"
    }
   ],
   "source": [
    "mat>50 # it is like a question"
   ]
  },
  {
   "cell_type": "code",
   "execution_count": 45,
   "id": "d5cd5534",
   "metadata": {},
   "outputs": [
    {
     "name": "stdout",
     "output_type": "stream",
     "text": [
      "elements greater than 50\n",
      " [72 85 98 65 54 62 72 62]\n"
     ]
    }
   ],
   "source": [
    "print(\"elements greater than 50\\n\" , mat[mat>50])"
   ]
  },
  {
   "cell_type": "code",
   "execution_count": 46,
   "id": "449b8922",
   "metadata": {},
   "outputs": [
    {
     "data": {
      "text/plain": [
       "array('fail', dtype='<U4')"
      ]
     },
     "execution_count": 46,
     "metadata": {},
     "output_type": "execute_result"
    }
   ],
   "source": [
    "#we can also use where and write some condition to fetch the data\n",
    "marks = 50\n",
    "np.where(marks>68 ,'pass', 'fail' )"
   ]
  },
  {
   "cell_type": "code",
   "execution_count": 47,
   "id": "68fc4c4a",
   "metadata": {},
   "outputs": [
    {
     "data": {
      "text/plain": [
       "array('pass', dtype='<U4')"
      ]
     },
     "execution_count": 47,
     "metadata": {},
     "output_type": "execute_result"
    }
   ],
   "source": [
    " marks = 70\n",
    "np.where(marks>68 ,'pass', 'fail' )"
   ]
  },
  {
   "cell_type": "code",
   "execution_count": 48,
   "id": "955d45c2",
   "metadata": {},
   "outputs": [
    {
     "name": "stdout",
     "output_type": "stream",
     "text": [
      "[ 46  -7  -1  33  32  35  23  11  44  -4  15  -1  -4  15  27  16  26  44\n",
      "  -5  41  15  14  49  37  32  16  14  27  10  -7  27  48  24   7  14  -4\n",
      "  27  30  -8  30   6  -6  17  15  10  18  13  26  35  38  32  42  -7   6\n",
      "  20  13  28  36  48  23  15  33  15  -2  45  48  34  10  25   5  11  33\n",
      "  -8  41  43  12  28  36  -4  18   6  -5  17  30  29  13   5  14  20  40\n",
      "  25 -10  32  47  46  19  32  20  45  23]\n"
     ]
    },
    {
     "data": {
      "text/plain": [
       "100"
      ]
     },
     "execution_count": 48,
     "metadata": {},
     "output_type": "execute_result"
    }
   ],
   "source": [
    "# check non zero\n",
    "non_zero = ri(-10,50,100)\n",
    "\n",
    "print(non_zero)\n",
    "\n",
    "np.count_nonzero(non_zero)   #here all 100 elements are non zero"
   ]
  },
  {
   "cell_type": "code",
   "execution_count": 49,
   "id": "c2aff553",
   "metadata": {},
   "outputs": [
    {
     "name": "stdout",
     "output_type": "stream",
     "text": [
      "[  1  -4   6  22  22  39  41  10  14  43  -1  -1  -7  31  41   3  17   6\n",
      "  49  37   0  -8  18  13  48  -6  10  -2  34  -9  15  27   7   8  11   4\n",
      "  23  15  10   0  26  47  11   0  38   1   1  11  33  35  37  47  -3  40\n",
      "  -4  42  33  33  22  43  37  42  30   7  -8  24   1   2  38   3  10  37\n",
      "  39  -8  32  16  16  -5  -9  21  44  37  13  -4  -5  44  46  35   7  49\n",
      "  36  14  -7   7   7  -2  31  36  -4 -10]\n"
     ]
    },
    {
     "data": {
      "text/plain": [
       "97"
      ]
     },
     "execution_count": 49,
     "metadata": {},
     "output_type": "execute_result"
    }
   ],
   "source": [
    "non_zero = ri(-10,50,100)\n",
    "\n",
    "print(non_zero)\n",
    "\n",
    "np.count_nonzero(non_zero) #here in output nonzero are 97 and 3 are zero "
   ]
  },
  {
   "cell_type": "code",
   "execution_count": 50,
   "id": "06da503c",
   "metadata": {},
   "outputs": [
    {
     "name": "stdout",
     "output_type": "stream",
     "text": [
      "[[ 2  2 13 10]\n",
      " [ 7  0 17  7]\n",
      " [ 1 19 14  2]]\n"
     ]
    },
    {
     "data": {
      "text/plain": [
       "array([ 2,  2, 13, 10,  7,  0, 17,  7,  1, 19, 14,  2])"
      ]
     },
     "execution_count": 50,
     "metadata": {},
     "output_type": "execute_result"
    }
   ],
   "source": [
    "# ravel or flatten(this concept is used in deep learning for image processing)\n",
    "array = np.random.randint(0,20 , size = (3,4))\n",
    "\n",
    "print(array)\n",
    "\n",
    "array.ravel()"
   ]
  },
  {
   "cell_type": "code",
   "execution_count": 51,
   "id": "80655f80",
   "metadata": {},
   "outputs": [
    {
     "data": {
      "text/plain": [
       "array([ 2,  2, 13, 10,  7,  0, 17,  7,  1, 19, 14,  2])"
      ]
     },
     "execution_count": 51,
     "metadata": {},
     "output_type": "execute_result"
    }
   ],
   "source": [
    "# or flatten both are same \n",
    "array.flatten()"
   ]
  },
  {
   "cell_type": "markdown",
   "id": "96941f23",
   "metadata": {},
   "source": [
    "# universal function:"
   ]
  },
  {
   "cell_type": "code",
   "execution_count": 53,
   "id": "5ecfe4cd",
   "metadata": {},
   "outputs": [
    {
     "name": "stdout",
     "output_type": "stream",
     "text": [
      "\n",
      "1st matrix of single digit number \n",
      "---------------------------\n",
      " [[2 1 3]\n",
      " [4 7 2]\n",
      " [1 8 4]]\n",
      "\n",
      "2nd matrix of single digit number \n",
      "----------------------------\n",
      " [[8 5 6]\n",
      " [3 5 3]\n",
      " [8 7 1]]\n"
     ]
    }
   ],
   "source": [
    "mat1 = np.array(ri(1,10,9)).reshape(3,3)\n",
    "mat2 = np.array(ri(1,10,9)).reshape(3,3)\n",
    "\n",
    "print(\"\\n1st matrix of single digit number \\n---------------------------\\n\" , mat1)\n",
    "\n",
    "print(\"\\n2nd matrix of single digit number \\n----------------------------\\n\" , mat2)"
   ]
  },
  {
   "cell_type": "code",
   "execution_count": 54,
   "id": "1dd65f72",
   "metadata": {},
   "outputs": [
    {
     "name": "stdout",
     "output_type": "stream",
     "text": [
      "\n",
      " addition\n",
      "---------------------------\n",
      " [[10  6  9]\n",
      " [ 7 12  5]\n",
      " [ 9 15  5]]\n"
     ]
    }
   ],
   "source": [
    "print(\"\\n addition\\n---------------------------\\n\" , mat1+mat2)"
   ]
  },
  {
   "cell_type": "code",
   "execution_count": 55,
   "id": "82cb8941",
   "metadata": {},
   "outputs": [
    {
     "name": "stdout",
     "output_type": "stream",
     "text": [
      "\n",
      " subtraction\n",
      "-------------------------\n",
      " [[-6 -4 -3]\n",
      " [ 1  2 -1]\n",
      " [-7  1  3]]\n"
     ]
    }
   ],
   "source": [
    "print(\"\\n subtraction\\n-------------------------\\n\" , mat1 - mat2)"
   ]
  },
  {
   "cell_type": "code",
   "execution_count": 56,
   "id": "4f31098a",
   "metadata": {},
   "outputs": [
    {
     "name": "stdout",
     "output_type": "stream",
     "text": [
      "\n",
      " product\n",
      "-------------------------\n",
      " [[16  5 18]\n",
      " [12 35  6]\n",
      " [ 8 56  4]]\n"
     ]
    }
   ],
   "source": [
    "print(\"\\n product\\n-------------------------\\n\" , mat1*mat2)"
   ]
  },
  {
   "cell_type": "markdown",
   "id": "05927803",
   "metadata": {},
   "source": [
    "# Broadcasting:"
   ]
  },
  {
   "cell_type": "code",
   "execution_count": 57,
   "id": "91006432",
   "metadata": {},
   "outputs": [],
   "source": [
    "start = np.zeros((3,3))"
   ]
  },
  {
   "cell_type": "code",
   "execution_count": 58,
   "id": "cd69b6a6",
   "metadata": {},
   "outputs": [
    {
     "data": {
      "text/plain": [
       "array([[0., 0., 0.],\n",
       "       [0., 0., 0.],\n",
       "       [0., 0., 0.]])"
      ]
     },
     "execution_count": 58,
     "metadata": {},
     "output_type": "execute_result"
    }
   ],
   "source": [
    "start"
   ]
  },
  {
   "cell_type": "code",
   "execution_count": 59,
   "id": "892b41b7",
   "metadata": {},
   "outputs": [
    {
     "name": "stdout",
     "output_type": "stream",
     "text": [
      "[1 0 2]\n"
     ]
    }
   ],
   "source": [
    "# create a rank nd array with 3 values\n",
    "add_rows = np.array([1,0,2])\n",
    "print(add_rows)"
   ]
  },
  {
   "cell_type": "code",
   "execution_count": 60,
   "id": "a9017000",
   "metadata": {},
   "outputs": [
    {
     "name": "stdout",
     "output_type": "stream",
     "text": [
      "[[1. 0. 2.]\n",
      " [1. 0. 2.]\n",
      " [1. 0. 2.]]\n"
     ]
    }
   ],
   "source": [
    "y = start + add_rows #add to each row of start using broadcasting\n",
    "print(y)"
   ]
  },
  {
   "cell_type": "code",
   "execution_count": 61,
   "id": "a220bdf6",
   "metadata": {},
   "outputs": [],
   "source": [
    "# broadcasting is to add/subtract/divide/multiply different types of matrix that are not equal in size"
   ]
  },
  {
   "cell_type": "code",
   "execution_count": 95,
   "id": "0c782f16",
   "metadata": {},
   "outputs": [],
   "source": [
    " a = np.array([1,0,2]).T"
   ]
  },
  {
   "cell_type": "code",
   "execution_count": 96,
   "id": "a8d22d1f",
   "metadata": {},
   "outputs": [
    {
     "data": {
      "text/plain": [
       "array([1, 0, 2])"
      ]
     },
     "execution_count": 96,
     "metadata": {},
     "output_type": "execute_result"
    }
   ],
   "source": [
    "a"
   ]
  },
  {
   "cell_type": "code",
   "execution_count": 97,
   "id": "7655d277",
   "metadata": {},
   "outputs": [],
   "source": [
    "#  to know the function we use cursor inside the bracket and use shift+tab"
   ]
  },
  {
   "cell_type": "code",
   "execution_count": null,
   "id": "ea4bf15e",
   "metadata": {},
   "outputs": [],
   "source": []
  }
 ],
 "metadata": {
  "kernelspec": {
   "display_name": "Python 3 (ipykernel)",
   "language": "python",
   "name": "python3"
  },
  "language_info": {
   "codemirror_mode": {
    "name": "ipython",
    "version": 3
   },
   "file_extension": ".py",
   "mimetype": "text/x-python",
   "name": "python",
   "nbconvert_exporter": "python",
   "pygments_lexer": "ipython3",
   "version": "3.9.13"
  }
 },
 "nbformat": 4,
 "nbformat_minor": 5
}
